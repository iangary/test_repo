{
 "cells": [
  {
   "cell_type": "code",
   "execution_count": 21,
   "metadata": {},
   "outputs": [],
   "source": [
    "import numpy as np\n",
    "def create_degree_map(matrix_size=8):\n",
    "    _dmap=np.zeros((matrix_size,matrix_size))\n",
    "    for i in range(matrix_size):\n",
    "        for j in range(matrix_size):\n",
    "            index=np.array([i,j])\n",
    "            d_index_x=np.array([i-2,i-1,i+1,i+2,i+2,i+1,i-1,i-2])\n",
    "            d_index_y=np.array([j-1,j-2,j-2,j-1,j+1,j+2,j+2,j+1])\n",
    "            a=np.sum(((d_index_x>=0)&(d_index_x<matrix_size))&((d_index_y>=0)&(d_index_y<matrix_size)))\n",
    "            _dmap[i,j]=a\n",
    "    return _dmap "
   ]
  },
  {
   "cell_type": "code",
   "execution_count": 22,
   "metadata": {},
   "outputs": [],
   "source": [
    "def reduce_dmap(i=0,j=0,dmap=create_degree_map(8)):\n",
    "    d_index_x=np.array([[i-2,i-1,i+1,i+2,i+2,i+1,i-1,i-2]])\n",
    "    d_index_y=np.array([[j-1,j-2,j-2,j-1,j+1,j+2,j+2,j+1]])\n",
    "    move=np.concatenate((d_index_x.T,d_index_y.T),axis=1)\n",
    "    move=move[(move[:,0]>=0)&(move[:,1]>=0)&(move[:,0]<dmap[:,0].size)&(move[:,1]<dmap[:,0].size)]\n",
    "    dmap[move[:,0],move[:,1]]=dmap[move[:,0],move[:,1]]-1 ## move[0]=row_index  move[1]=col_index\n",
    "    dmap[i,j]=10000\n",
    "    return dmap\n",
    "def choose_move(i=0,j=0,dmap=create_degree_map(8)):\n",
    "    d_index_x=np.array([[i-2,i-1,i+1,i+2,i+2,i+1,i-1,i-2]])\n",
    "    d_index_y=np.array([[j-1,j-2,j-2,j-1,j+1,j+2,j+2,j+1]])\n",
    "    move=np.concatenate((d_index_x.T,d_index_y.T),axis=1)\n",
    "    move=move[(move[:,0]>=0)&(move[:,1]>=0)&(move[:,0]<dmap[:,0].size)&(move[:,1]<dmap[:,0].size)]\n",
    "    choose_matrix=100\n",
    "    index=np.array([0,0])\n",
    "    for i in range(move[:,0].size):        \n",
    "        if (choose_matrix>dmap[move[i,0],move[i,1]]):\n",
    "            choose_matrix=dmap[move[i,0],move[i,1]]\n",
    "            index=[move[i,0],move[i,1]]     \n",
    "    return index"
   ]
  },
  {
   "cell_type": "code",
   "execution_count": 25,
   "metadata": {},
   "outputs": [
    {
     "data": {
      "text/plain": [
       "array([[ 1., 24., 13., 18.,  7.],\n",
       "       [14., 19.,  8., 23., 12.],\n",
       "       [ 9.,  2., 25.,  6., 17.],\n",
       "       [20., 15.,  4., 11., 22.],\n",
       "       [ 3., 10., 21., 16.,  5.]])"
      ]
     },
     "execution_count": 25,
     "metadata": {},
     "output_type": "execute_result"
    }
   ],
   "source": [
    "def path_matrix(i=0,j=0,matrix_size=8):\n",
    "    index=np.array([i,j])\n",
    "    path_matrix=np.zeros((matrix_size,matrix_size))\n",
    "    dmap=create_degree_map(matrix_size)\n",
    "    for i in range(matrix_size**2):\n",
    "        path_matrix[index[0],index[1]]=i+1\n",
    "        dmap=reduce_dmap(i=index[0],j=index[1],dmap=dmap)\n",
    "        index=choose_move(i=index[0],j=index[1],dmap=dmap)    \n",
    "    return path_matrix   \n",
    "\n",
    "path_matrix(0,0,5)"
   ]
  },
  {
   "cell_type": "code",
   "execution_count": null,
   "metadata": {},
   "outputs": [],
   "source": []
  },
  {
   "cell_type": "code",
   "execution_count": null,
   "metadata": {},
   "outputs": [],
   "source": []
  },
  {
   "cell_type": "code",
   "execution_count": 114,
   "metadata": {},
   "outputs": [
    {
     "data": {
      "text/plain": [
       "8"
      ]
     },
     "execution_count": 114,
     "metadata": {},
     "output_type": "execute_result"
    }
   ],
   "source": [
    "i=2\n",
    "j=2\n",
    "d_index_x=np.array([[i+1,i-1,i+2,i-2,i+1,i-1,i+2,i-2]])\n",
    "d_index_y=np.array([[j+2,j-2,j+1,j-1,j-2,j+2,j-1,j+1]])\n",
    "k=np.concatenate((d_index_x.T,d_index_y.T),axis=1)\n",
    "k[:,0].size"
   ]
  },
  {
   "cell_type": "code",
   "execution_count": null,
   "metadata": {},
   "outputs": [],
   "source": []
  },
  {
   "cell_type": "code",
   "execution_count": 114,
   "metadata": {},
   "outputs": [
    {
     "data": {
      "text/plain": [
       "8"
      ]
     },
     "execution_count": 114,
     "metadata": {},
     "output_type": "execute_result"
    }
   ],
   "source": [
    "i=2\n",
    "j=2\n",
    "d_index_x=np.array([[i+1,i-1,i+2,i-2,i+1,i-1,i+2,i-2]])\n",
    "d_index_y=np.array([[j+2,j-2,j+1,j-1,j-2,j+2,j-1,j+1]])\n",
    "k=np.concatenate((d_index_x.T,d_index_y.T),axis=1)\n",
    "k[:,0].size"
   ]
  },
  {
   "cell_type": "code",
   "execution_count": 15,
   "metadata": {},
   "outputs": [],
   "source": [
    "a=np.array([1,0,1,0,1])\n",
    "b=np.array([0,1,0,1,0])\n",
    "np.sum((a>0)&(b==0))\n",
    "np.concatenate?"
   ]
  },
  {
   "cell_type": "code",
   "execution_count": 56,
   "metadata": {},
   "outputs": [
    {
     "data": {
      "text/plain": [
       "array([2, 3, 2, 3])"
      ]
     },
     "execution_count": 56,
     "metadata": {},
     "output_type": "execute_result"
    }
   ],
   "source": [
    "index=np.array([2,3])\n",
    "np.concatenate([index,index])"
   ]
  }
 ],
 "metadata": {
  "kernelspec": {
   "display_name": "Python Machine Learning",
   "language": "python",
   "name": "pyml"
  },
  "language_info": {
   "codemirror_mode": {
    "name": "ipython",
    "version": 3
   },
   "file_extension": ".py",
   "mimetype": "text/x-python",
   "name": "python",
   "nbconvert_exporter": "python",
   "pygments_lexer": "ipython3",
   "version": "3.6.10"
  }
 },
 "nbformat": 4,
 "nbformat_minor": 4
}
